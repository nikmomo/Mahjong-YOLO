{
 "cells": [
  {
   "cell_type": "code",
   "execution_count": 1,
   "metadata": {},
   "outputs": [],
   "source": [
    "import os\n",
    "import cv2\n",
    "\n",
    "def convert_to_grayscale(images_dir, output_dir):\n",
    "    \"\"\"\n",
    "    将图片数据集转换为灰度图像\n",
    "    :param images_dir: 原始图片文件夹路径\n",
    "    :param output_dir: 灰度图像的输出文件夹路径\n",
    "    \"\"\"\n",
    "    os.makedirs(output_dir, exist_ok=True)\n",
    "\n",
    "    for filename in os.listdir(images_dir):\n",
    "        if filename.lower().endswith(('.jpg', '.jpeg', '.png')):\n",
    "            img_path = os.path.join(images_dir, filename)\n",
    "            output_path = os.path.join(output_dir, filename)\n",
    "\n",
    "            # 加载图片并转换为灰度\n",
    "            image = cv2.imread(img_path)\n",
    "            gray_image = cv2.cvtColor(image, cv2.COLOR_BGR2GRAY)\n",
    "\n",
    "            # 保存灰度图像\n",
    "            cv2.imwrite(output_path, gray_image)\n",
    "\n",
    "    print(f\"所有图片已转换为灰度图像，保存到 {output_dir}\")\n",
    "\n",
    "\n"
   ]
  },
  {
   "cell_type": "code",
   "execution_count": 3,
   "metadata": {},
   "outputs": [
    {
     "name": "stdout",
     "output_type": "stream",
     "text": [
      "所有图片已转换为灰度图像，保存到 C:\\Users\\tfgmo\\OneDrive - Virginia Tech\\Mahjong CV\\augmented_splited_gray\\images\\train\\\n"
     ]
    }
   ],
   "source": [
    "# 输入原始图片目录\n",
    "images_dir = \"C:\\\\Users\\\\tfgmo\\\\OneDrive - Virginia Tech\\\\Mahjong CV\\\\augmented_dataset_splited\\\\images\\\\train\\\\\"\n",
    "# 输出灰度图片目录\n",
    "output_dir = \"C:\\\\Users\\\\tfgmo\\\\OneDrive - Virginia Tech\\\\Mahjong CV\\\\augmented_splited_gray\\\\images\\\\train\\\\\"\n",
    "\n",
    "# 执行灰度化\n",
    "convert_to_grayscale(images_dir, output_dir)"
   ]
  }
 ],
 "metadata": {
  "kernelspec": {
   "display_name": "Python 3",
   "language": "python",
   "name": "python3"
  },
  "language_info": {
   "codemirror_mode": {
    "name": "ipython",
    "version": 3
   },
   "file_extension": ".py",
   "mimetype": "text/x-python",
   "name": "python",
   "nbconvert_exporter": "python",
   "pygments_lexer": "ipython3",
   "version": "3.11.9"
  }
 },
 "nbformat": 4,
 "nbformat_minor": 2
}
