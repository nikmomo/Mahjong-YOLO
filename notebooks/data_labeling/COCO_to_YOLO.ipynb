{
 "cells": [
  {
   "cell_type": "code",
   "execution_count": 2,
   "metadata": {},
   "outputs": [
    {
     "name": "stdout",
     "output_type": "stream",
     "text": [
      "Conversion completed! YOLO labels saved to C:\\Users\\tfgmo\\OneDrive - Virginia Tech\\Mahjong CV\\augmented_dataset_splited\\test\\\n"
     ]
    }
   ],
   "source": [
    "import os\n",
    "import json\n",
    "\n",
    "def convert_coco_to_yolo(coco_json_path, output_dir, image_dir):\n",
    "    # Load COCO JSON\n",
    "    with open(coco_json_path, 'r') as f:\n",
    "        coco_data = json.load(f)\n",
    "    \n",
    "    # Create output directory for YOLO labels\n",
    "    os.makedirs(output_dir, exist_ok=True)\n",
    "\n",
    "    # os.makedirs(output_dir + \"/images\", exist_ok=True)\n",
    "    \n",
    "    # Get categories and map them to YOLO class IDs\n",
    "    categories = {cat['id']: idx for idx, cat in enumerate(coco_data['categories'])}\n",
    "    \n",
    "    # Create a dictionary to store annotations per image\n",
    "    annotations = {}\n",
    "    for ann in coco_data['annotations']:\n",
    "        image_id = ann['image_id']\n",
    "        bbox = ann['bbox']\n",
    "        category_id = categories[ann['category_id']]\n",
    "        \n",
    "        # Convert COCO bbox to YOLO bbox\n",
    "        x_center = bbox[0] + bbox[2] / 2.0\n",
    "        y_center = bbox[1] + bbox[3] / 2.0\n",
    "        width = bbox[2]\n",
    "        height = bbox[3]\n",
    "        \n",
    "        # Normalize by image width and height\n",
    "        image_info = next((img for img in coco_data['images'] if img['id'] == image_id), None)\n",
    "        if image_info is None:\n",
    "            print(f\"Image ID {image_id} not found in 'images' section of COCO JSON\")\n",
    "            continue\n",
    "        \n",
    "        img_width = image_info['width']\n",
    "        img_height = image_info['height']\n",
    "        \n",
    "        x_center /= img_width\n",
    "        y_center /= img_height\n",
    "        width /= img_width\n",
    "        height /= img_height\n",
    "        \n",
    "        # Add to annotations dict\n",
    "        if image_id not in annotations:\n",
    "            annotations[image_id] = []\n",
    "        annotations[image_id].append(f\"{category_id} {x_center:.6f} {y_center:.6f} {width:.6f} {height:.6f}\")\n",
    "    \n",
    "    # Write YOLO .txt files\n",
    "    for image in coco_data['images']:\n",
    "        image_id = image['id']\n",
    "        file_name = os.path.splitext(image['file_name'])[0]  # Get file name without extension\n",
    "        label_path = os.path.join(output_dir, f\"{file_name}.txt\")\n",
    "        \n",
    "        with open(label_path, 'w') as label_file:\n",
    "            if image_id in annotations:\n",
    "                label_file.write(\"\\n\".join(annotations[image_id]))\n",
    "    \n",
    "    print(f\"Conversion completed! YOLO labels saved to {output_dir}\")\n",
    "\n",
    "# Example usage\n",
    "coco_json_path = \"C:\\\\Users\\\\tfgmo\\\\OneDrive - Virginia Tech\\\\Mahjong CV\\\\augmented_dataset_splited\\\\test\\\\annotations.json\"  # Path to your COCO JSON file\n",
    "output_dir = \"C:\\\\Users\\\\tfgmo\\\\OneDrive - Virginia Tech\\\\Mahjong CV\\\\augmented_dataset_splited\\\\test\\\\\"        # Directory to save YOLO labels\n",
    "image_dir = \"C:\\\\Users\\\\tfgmo\\\\OneDrive - Virginia Tech\\\\Mahjong CV\\\\augmented_dataset_splited\\\\test\\\\\"                # Directory containing the images\n",
    "\n",
    "convert_coco_to_yolo(coco_json_path, output_dir, image_dir)\n"
   ]
  }
 ],
 "metadata": {
  "kernelspec": {
   "display_name": "Python 3",
   "language": "python",
   "name": "python3"
  },
  "language_info": {
   "codemirror_mode": {
    "name": "ipython",
    "version": 3
   },
   "file_extension": ".py",
   "mimetype": "text/x-python",
   "name": "python",
   "nbconvert_exporter": "python",
   "pygments_lexer": "ipython3",
   "version": "3.11.9"
  }
 },
 "nbformat": 4,
 "nbformat_minor": 2
}
